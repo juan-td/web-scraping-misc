{
 "metadata": {
  "language_info": {
   "codemirror_mode": {
    "name": "ipython",
    "version": 3
   },
   "file_extension": ".py",
   "mimetype": "text/x-python",
   "name": "python",
   "nbconvert_exporter": "python",
   "pygments_lexer": "ipython3",
   "version": "3.8.8"
  },
  "orig_nbformat": 4,
  "kernelspec": {
   "name": "python3",
   "display_name": "Python 3.8.8 64-bit ('tensorflow': conda)"
  },
  "interpreter": {
   "hash": "96f01faad2da0652ce6c8b97bc02ca49eea9d00f5a3edaabd762ca7bd6c2d523"
  }
 },
 "nbformat": 4,
 "nbformat_minor": 2,
 "cells": [
  {
   "source": [
    "# Import libraries"
   ],
   "cell_type": "markdown",
   "metadata": {}
  },
  {
   "cell_type": "code",
   "execution_count": 4,
   "metadata": {},
   "outputs": [],
   "source": [
    "import numpy as np\n",
    "import pandas as pd\n",
    "import matplotlib as mpl\n",
    "import matplotlib.pyplot as plt\n",
    "import seaborn as sns\n",
    "from bs4 import BeautifulSoup\n",
    "from urllib.request import urlopen"
   ]
  },
  {
   "source": [
    "# Getting to know bs4"
   ],
   "cell_type": "markdown",
   "metadata": {}
  },
  {
   "cell_type": "code",
   "execution_count": 104,
   "metadata": {},
   "outputs": [],
   "source": [
    "html_1 = urlopen('https://en.wikipedia.org/wiki/List_of_The_Simpsons_episodes_(seasons_1-20)')\n",
    "bs_1 = BeautifulSoup(html_1.read(),'html.parser')\n",
    "\n",
    "html_2 = urlopen('https://en.wikipedia.org/wiki/List_of_The_Simpsons_episodes')\n",
    "bs_2 = BeautifulSoup(html_2.read(),'html.parser')"
   ]
  },
  {
   "cell_type": "code",
   "execution_count": 105,
   "metadata": {},
   "outputs": [],
   "source": [
    "episode_tables = bs_1.find_all('table',{'class':\"wikitable plainrowheaders wikiepisodetable\"})\n",
    "episodes = [pd.read_html(str(i))[0] for i in episode_tables if 'The Simpsons Movie' not in str(i)]\n",
    "\n",
    "episode_tables = bs_2.find_all('table',{'class':\"wikitable plainrowheaders wikiepisodetable\"})\n",
    "episodes.extend([pd.read_html(str(i))[0] for i in episode_tables if ('Screenplay by' not in str(i)) and ('Ratings/' not in str(i))])\n",
    "\n",
    "for i in range(len(episodes)):\n",
    "    episodes[i]['Season'] = i+1\n",
    "\n",
    "episodes_df = pd.concat(episodes).reset_index(drop=True)\n",
    "\n",
    "# fix problems with episodes 608,608\n"
   ]
  },
  {
   "cell_type": "code",
   "execution_count": 110,
   "metadata": {},
   "outputs": [
    {
     "output_type": "execute_result",
     "data": {
      "text/plain": [
       "     No.overall  No. inseason                                   Title  \\\n",
       "607      608609          1213  \"The Great Phatsby\" (Vol. I & Vol. II)   \n",
       "608         610            14                          \"Fatzcarraldo\"   \n",
       "609         611            15                   \"The Cad and the Hat\"   \n",
       "610         612            16                         \"Kamp Krustier\"   \n",
       "611         613            17                             \"22 for 30\"   \n",
       "..          ...           ...                                     ...   \n",
       "699         702            18                          \"Burger Kings\"   \n",
       "700         703            19   \"Panic on the Streets of Springfield\"   \n",
       "701         704            20              \"Mother and Child Reunion\"   \n",
       "702         705            21             \"The Man from G.R.A.M.P.A.\"   \n",
       "703         706            22                   \"The Last Barfighter\"   \n",
       "\n",
       "                      Directed by                            Written by  \\\n",
       "607  Chris ClementsTimothy Bailey  Dan GreaneyDan Greaney & Matt Selman   \n",
       "608                 Mark Kirkland                         Michael Price   \n",
       "609             Steven Dean Moore                         Ron Zimmerman   \n",
       "610                    Rob Oliver                        David M. Stern   \n",
       "611                Chris Clements                         Joel H. Cohen   \n",
       "..                            ...                                   ...   \n",
       "699                  Lance Kramer                          Rob LaZebnik   \n",
       "700                Matthew Nastuk                              Tim Long   \n",
       "701              Jennifer Moeller                      J. Stewart Burns   \n",
       "702            Mike Frank Polcino                         Carolyn Omine   \n",
       "703                Timothy Bailey                            Dan Vebber   \n",
       "\n",
       "     Original air date     Prod.code U.S. viewers(millions)  Season  \n",
       "607   January 15, 2017  WABF04WABF05              6.90[220]      28  \n",
       "608  February 12, 2017        WABF07              2.40[221]      28  \n",
       "609  February 19, 2017        WABF08              2.44[222]      28  \n",
       "610      March 5, 2017        WABF09              2.56[223]      28  \n",
       "611     March 12, 2017        WABF10              2.61[224]      28  \n",
       "..                 ...           ...                    ...     ...  \n",
       "699     April 11, 2021        QABF11              1.24[316]      32  \n",
       "700     April 18, 2021        QABF12              1.31[317]      32  \n",
       "701        May 9, 2021        QABF14              1.11[318]      32  \n",
       "702       May 16, 2021        QABF13              1.06[319]      32  \n",
       "703       May 23, 2021        QABF15              1.02[320]      32  \n",
       "\n",
       "[97 rows x 9 columns]"
      ],
      "text/html": "<div>\n<style scoped>\n    .dataframe tbody tr th:only-of-type {\n        vertical-align: middle;\n    }\n\n    .dataframe tbody tr th {\n        vertical-align: top;\n    }\n\n    .dataframe thead th {\n        text-align: right;\n    }\n</style>\n<table border=\"1\" class=\"dataframe\">\n  <thead>\n    <tr style=\"text-align: right;\">\n      <th></th>\n      <th>No.overall</th>\n      <th>No. inseason</th>\n      <th>Title</th>\n      <th>Directed by</th>\n      <th>Written by</th>\n      <th>Original air date</th>\n      <th>Prod.code</th>\n      <th>U.S. viewers(millions)</th>\n      <th>Season</th>\n    </tr>\n  </thead>\n  <tbody>\n    <tr>\n      <th>607</th>\n      <td>608609</td>\n      <td>1213</td>\n      <td>\"The Great Phatsby\" (Vol. I &amp; Vol. II)</td>\n      <td>Chris ClementsTimothy Bailey</td>\n      <td>Dan GreaneyDan Greaney &amp; Matt Selman</td>\n      <td>January 15, 2017</td>\n      <td>WABF04WABF05</td>\n      <td>6.90[220]</td>\n      <td>28</td>\n    </tr>\n    <tr>\n      <th>608</th>\n      <td>610</td>\n      <td>14</td>\n      <td>\"Fatzcarraldo\"</td>\n      <td>Mark Kirkland</td>\n      <td>Michael Price</td>\n      <td>February 12, 2017</td>\n      <td>WABF07</td>\n      <td>2.40[221]</td>\n      <td>28</td>\n    </tr>\n    <tr>\n      <th>609</th>\n      <td>611</td>\n      <td>15</td>\n      <td>\"The Cad and the Hat\"</td>\n      <td>Steven Dean Moore</td>\n      <td>Ron Zimmerman</td>\n      <td>February 19, 2017</td>\n      <td>WABF08</td>\n      <td>2.44[222]</td>\n      <td>28</td>\n    </tr>\n    <tr>\n      <th>610</th>\n      <td>612</td>\n      <td>16</td>\n      <td>\"Kamp Krustier\"</td>\n      <td>Rob Oliver</td>\n      <td>David M. Stern</td>\n      <td>March 5, 2017</td>\n      <td>WABF09</td>\n      <td>2.56[223]</td>\n      <td>28</td>\n    </tr>\n    <tr>\n      <th>611</th>\n      <td>613</td>\n      <td>17</td>\n      <td>\"22 for 30\"</td>\n      <td>Chris Clements</td>\n      <td>Joel H. Cohen</td>\n      <td>March 12, 2017</td>\n      <td>WABF10</td>\n      <td>2.61[224]</td>\n      <td>28</td>\n    </tr>\n    <tr>\n      <th>...</th>\n      <td>...</td>\n      <td>...</td>\n      <td>...</td>\n      <td>...</td>\n      <td>...</td>\n      <td>...</td>\n      <td>...</td>\n      <td>...</td>\n      <td>...</td>\n    </tr>\n    <tr>\n      <th>699</th>\n      <td>702</td>\n      <td>18</td>\n      <td>\"Burger Kings\"</td>\n      <td>Lance Kramer</td>\n      <td>Rob LaZebnik</td>\n      <td>April 11, 2021</td>\n      <td>QABF11</td>\n      <td>1.24[316]</td>\n      <td>32</td>\n    </tr>\n    <tr>\n      <th>700</th>\n      <td>703</td>\n      <td>19</td>\n      <td>\"Panic on the Streets of Springfield\"</td>\n      <td>Matthew Nastuk</td>\n      <td>Tim Long</td>\n      <td>April 18, 2021</td>\n      <td>QABF12</td>\n      <td>1.31[317]</td>\n      <td>32</td>\n    </tr>\n    <tr>\n      <th>701</th>\n      <td>704</td>\n      <td>20</td>\n      <td>\"Mother and Child Reunion\"</td>\n      <td>Jennifer Moeller</td>\n      <td>J. Stewart Burns</td>\n      <td>May 9, 2021</td>\n      <td>QABF14</td>\n      <td>1.11[318]</td>\n      <td>32</td>\n    </tr>\n    <tr>\n      <th>702</th>\n      <td>705</td>\n      <td>21</td>\n      <td>\"The Man from G.R.A.M.P.A.\"</td>\n      <td>Mike Frank Polcino</td>\n      <td>Carolyn Omine</td>\n      <td>May 16, 2021</td>\n      <td>QABF13</td>\n      <td>1.06[319]</td>\n      <td>32</td>\n    </tr>\n    <tr>\n      <th>703</th>\n      <td>706</td>\n      <td>22</td>\n      <td>\"The Last Barfighter\"</td>\n      <td>Timothy Bailey</td>\n      <td>Dan Vebber</td>\n      <td>May 23, 2021</td>\n      <td>QABF15</td>\n      <td>1.02[320]</td>\n      <td>32</td>\n    </tr>\n  </tbody>\n</table>\n<p>97 rows × 9 columns</p>\n</div>"
     },
     "metadata": {},
     "execution_count": 110
    }
   ],
   "source": [
    "episodes_df[episodes_df.index+1 != episodes_df['No.overall']]"
   ]
  },
  {
   "cell_type": "code",
   "execution_count": null,
   "metadata": {},
   "outputs": [],
   "source": []
  }
 ]
}